{
 "cells": [
  {
   "cell_type": "code",
   "execution_count": null,
   "metadata": {
    "id": "nBiGV-3qV7he"
   },
   "outputs": [],
   "source": [
    "#TOPIC = TRAFFIC SIGN CLASSIFICATION WITH KERAS AND DEEP LEARNING"
   ]
  },
  {
   "cell_type": "markdown",
   "metadata": {
    "id": "ALSMRMAUWar2"
   },
   "source": [
    "DATA SET USED\n",
    "\n",
    "For this project we will be using the GTSRB - German Traffic Sign Recognition Benchmark Dataset which contains over 43 traffic sign classes and over 50,000 images.\n",
    "\n",
    "This data set we have obtained from kaggle.\n",
    "\n",
    "Link to the dataset : https://www.kaggle.com/datasets/meowmeowmeowmeowmeow/gtsrb-german-traffic-sign\n"
   ]
  },
  {
   "cell_type": "markdown",
   "metadata": {
    "id": "naVSsuPXX8t2"
   },
   "source": [
    "In real world Traffic Sign Recognition is a two step process : \n",
    "\n",
    "\n",
    "\n",
    "*   Localization : Detect and localize where in an input image/frame a traffic sign is.\n",
    "*   Recognition : Take the localized ROI and actually recognize and classify the traffic sign.\n",
    "\n",
    "We will then Implement a Convolution Neural Network which we'll train on our dataset.\n",
    "\n",
    "Given our trained model we’ll evaluate its accuracy on the test data and even learn how to make predictions on new input data as well.\n",
    "\n",
    "\n"
   ]
  },
  {
   "cell_type": "markdown",
   "metadata": {
    "id": "r_5Hs8hIYpaQ"
   },
   "source": [
    "Challenges Faced with the GTSRB dataset.\n",
    "\n",
    "\n",
    "*   The images are low resoultion and on top of that have poor contrast.These images are pixelated, and in some cases, it’s extremely challenging, if not impossible, for the human eye and brain to recognize the sign.\n",
    "*   Also another problem is to handling the data skew. That isthere are far more samples for one class compared to other.\n",
    "\n",
    "To train an accurate traffic sign classifier : \n",
    "\n",
    "*   Preprocess our input images to improve contrast.\n",
    "*   Account for class label skew.\n",
    "\n",
    "\n",
    "\n"
   ]
  },
  {
   "cell_type": "code",
   "execution_count": null,
   "metadata": {},
   "outputs": [],
   "source": []
  }
 ],
 "metadata": {
  "colab": {
   "name": "Data Science Capstone Project.ipynb",
   "provenance": []
  },
  "kernelspec": {
   "display_name": "Python 3 (ipykernel)",
   "language": "python",
   "name": "python3"
  },
  "language_info": {
   "codemirror_mode": {
    "name": "ipython",
    "version": 3
   },
   "file_extension": ".py",
   "mimetype": "text/x-python",
   "name": "python",
   "nbconvert_exporter": "python",
   "pygments_lexer": "ipython3",
   "version": "3.9.7"
  }
 },
 "nbformat": 4,
 "nbformat_minor": 1
}
